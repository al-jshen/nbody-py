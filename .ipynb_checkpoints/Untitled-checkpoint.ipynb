{
 "cells": [
  {
   "cell_type": "code",
   "execution_count": 26,
   "metadata": {},
   "outputs": [],
   "source": [
    "import numpy as np\n",
    "import matplotlib.pyplot as plt\n",
    "%matplotlib inline"
   ]
  },
  {
   "cell_type": "code",
   "execution_count": 12,
   "metadata": {},
   "outputs": [],
   "source": [
    "class Body:\n",
    "    def __init__(self, x, y, vx, vy, fx, fy, mass):\n",
    "        self.x = x\n",
    "        self.y = y\n",
    "        self.vx = vx\n",
    "        self.vy = vy\n",
    "        self.fx = fx\n",
    "        self.fy = fy\n",
    "        self.mass = mass\n",
    "        \n",
    "    def update(self, dt):\n",
    "        self.vx += dt * self.fx / self.mass\n",
    "        self.vy += dt * self.fy / self.mass\n",
    "        self.x += dt * self.vx\n",
    "        self.y += dt * self.vy\n",
    "        \n",
    "    def reset(self):\n",
    "        self.fx = 0\n",
    "        self.fy = 0\n",
    "    \n",
    "    def calc_force(self, other):\n",
    "        dx = self.x - other.x\n",
    "        dy = self.y - other.y\n",
    "        dist = np.sqrt(dx * dx + dy * dy)\n",
    "        force = 6.67408e-11 * self.mass * other.mass / ((dist + 6e7) * (dist + 6e7))\n",
    "        self.fx += force * dx / dist\n",
    "        self.fy += force * dy / dist\n",
    "        other.fx += force * dx / dist\n",
    "        other.fy += force * dy / dist\n",
    "        \n",
    "    def get_pos(self):\n",
    "        return (self.x, self.y)"
   ]
  },
  {
   "cell_type": "code",
   "execution_count": 3,
   "metadata": {},
   "outputs": [],
   "source": [
    "def gen_random_body(radius):\n",
    "    a = np.random.random() * 2 * np.pi\n",
    "    r = np.sqrt(np.random.random()) * radius\n",
    "    x = np.cos(a) * r\n",
    "    y = np.sin(a) * r\n",
    "    perp_ratio = - y / x\n",
    "    vx = a * 4e4 if np.random.random() > 0.5 else -a * 4e4\n",
    "    vy = perp_ratio * vx\n",
    "    mass = (np.random.random() + 1) * 1.989e30\n",
    "    return Body(x, y, vx, vy, 0, 0, mass)"
   ]
  },
  {
   "cell_type": "code",
   "execution_count": 4,
   "metadata": {},
   "outputs": [],
   "source": [
    "def initialize(n):\n",
    "    return [gen_random_body(5e20) for i in np.arange(n)]"
   ]
  },
  {
   "cell_type": "code",
   "execution_count": 53,
   "metadata": {},
   "outputs": [],
   "source": [
    "def integrate(timesteps, bodies):\n",
    "\n",
    "    positions = np.zeros((timesteps, len(bodies), 2))\n",
    "    \n",
    "    for t in np.arange(timesteps):\n",
    "        for i in np.arange(len(bodies)):\n",
    "            for j in np.arange(i+1, len(bodies)):\n",
    "                bodies[i].calc_force(bodies[j])\n",
    "                \n",
    "        for idx, b in enumerate(bodies):\n",
    "            b.update(1e13)\n",
    "            b.reset()\n",
    "            positions[t][idx] = b.get_pos()\n",
    "            \n",
    "    return positions"
   ]
  },
  {
   "cell_type": "code",
   "execution_count": 54,
   "metadata": {},
   "outputs": [],
   "source": [
    "bodies = initialize(100)\n",
    "positions = integrate(100, bodies)"
   ]
  },
  {
   "cell_type": "code",
   "execution_count": null,
   "metadata": {},
   "outputs": [],
   "source": []
  }
 ],
 "metadata": {
  "kernelspec": {
   "display_name": "Python 3.8.2 64-bit",
   "language": "python",
   "name": "python38264bit51ac865642c54dc8af66b510f89bf5d6"
  },
  "language_info": {
   "codemirror_mode": {
    "name": "ipython",
    "version": 3
   },
   "file_extension": ".py",
   "mimetype": "text/x-python",
   "name": "python",
   "nbconvert_exporter": "python",
   "pygments_lexer": "ipython3",
   "version": "3.8.2"
  }
 },
 "nbformat": 4,
 "nbformat_minor": 4
}
